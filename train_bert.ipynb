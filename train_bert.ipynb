{
  "nbformat": 4,
  "nbformat_minor": 0,
  "metadata": {
    "colab": {
      "name": "train-bert",
      "provenance": [],
      "collapsed_sections": [],
      "toc_visible": true
    },
    "kernelspec": {
      "name": "python3",
      "display_name": "Python 3"
    },
    "accelerator": "GPU"
  },
  "cells": [
    {
      "cell_type": "markdown",
      "metadata": {
        "id": "hDGLRkQQAVeP",
        "colab_type": "text"
      },
      "source": [
        "# Checkout the repositories and ensure that runtime has gpu acceleration\n"
      ]
    },
    {
      "cell_type": "code",
      "metadata": {
        "id": "ZFvd5qlFA0n5",
        "colab_type": "code",
        "colab": {}
      },
      "source": [
        "!git clone https://github.com/MANASLU8/ner-bert.git\n",
        "!git clone https://github.com/dialogue-evaluation/factRuEval-2016.git\n",
        "!nvidia-smi"
      ],
      "execution_count": 0,
      "outputs": []
    },
    {
      "cell_type": "markdown",
      "metadata": {
        "id": "m8wwY4JCB05u",
        "colab_type": "text"
      },
      "source": [
        "# Install missing dependencies\n",
        "\n",
        "\n"
      ]
    },
    {
      "cell_type": "code",
      "metadata": {
        "id": "zO07sJ88CRND",
        "colab_type": "code",
        "colab": {}
      },
      "source": [
        "pip install torch==1.4.0 pytorch-pretrained-bert sklearn-crfsuite"
      ],
      "execution_count": 0,
      "outputs": []
    },
    {
      "cell_type": "markdown",
      "metadata": {
        "id": "3B-QeTi2Gb_a",
        "colab_type": "text"
      },
      "source": [
        "# Start training"
      ]
    },
    {
      "cell_type": "code",
      "metadata": {
        "id": "mOnGTFgjDF1b",
        "colab_type": "code",
        "colab": {}
      },
      "source": [
        "!python ner-bert/train-bert.py --fact_ru_eval_root factRuEval-2016 --checkpoint checkpoint.ckpt"
      ],
      "execution_count": 0,
      "outputs": []
    }
  ]
}